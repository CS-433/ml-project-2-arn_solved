{
 "cells": [
  {
   "cell_type": "code",
   "execution_count": 1,
   "id": "24acfcd7",
   "metadata": {},
   "outputs": [
    {
     "name": "stdout",
     "output_type": "stream",
     "text": [
      "Requirement already satisfied: gtfparse in c:\\users\\igord\\anaconda3\\lib\\site-packages (1.2.1)\n",
      "Requirement already satisfied: pandas>=0.15 in c:\\users\\igord\\anaconda3\\lib\\site-packages (from gtfparse) (1.3.4)\n",
      "Requirement already satisfied: numpy>=1.7 in c:\\users\\igord\\anaconda3\\lib\\site-packages (from gtfparse) (1.20.3)\n",
      "Requirement already satisfied: pytz>=2017.3 in c:\\users\\igord\\anaconda3\\lib\\site-packages (from pandas>=0.15->gtfparse) (2021.3)\n",
      "Requirement already satisfied: python-dateutil>=2.7.3 in c:\\users\\igord\\anaconda3\\lib\\site-packages (from pandas>=0.15->gtfparse) (2.8.2)\n",
      "Requirement already satisfied: six>=1.5 in c:\\users\\igord\\anaconda3\\lib\\site-packages (from python-dateutil>=2.7.3->pandas>=0.15->gtfparse) (1.16.0)\n",
      "Note: you may need to restart the kernel to use updated packages.\n"
     ]
    }
   ],
   "source": [
    "pip install gtfparse"
   ]
  },
  {
   "cell_type": "code",
   "execution_count": 2,
   "id": "07997c42",
   "metadata": {},
   "outputs": [
    {
     "name": "stdout",
     "output_type": "stream",
     "text": [
      "Requirement already satisfied: panda in c:\\users\\igord\\anaconda3\\lib\\site-packages (0.3.1)\n",
      "Requirement already satisfied: requests in c:\\users\\igord\\anaconda3\\lib\\site-packages (from panda) (2.26.0)\n",
      "Requirement already satisfied: setuptools in c:\\users\\igord\\anaconda3\\lib\\site-packages (from panda) (58.0.4)\n",
      "Requirement already satisfied: certifi>=2017.4.17 in c:\\users\\igord\\anaconda3\\lib\\site-packages (from requests->panda) (2021.10.8)\n",
      "Requirement already satisfied: idna<4,>=2.5 in c:\\users\\igord\\anaconda3\\lib\\site-packages (from requests->panda) (3.2)\n",
      "Requirement already satisfied: urllib3<1.27,>=1.21.1 in c:\\users\\igord\\anaconda3\\lib\\site-packages (from requests->panda) (1.26.7)\n",
      "Requirement already satisfied: charset-normalizer~=2.0.0 in c:\\users\\igord\\anaconda3\\lib\\site-packages (from requests->panda) (2.0.4)\n",
      "Note: you may need to restart the kernel to use updated packages.\n"
     ]
    }
   ],
   "source": [
    "pip install panda"
   ]
  },
  {
   "cell_type": "code",
   "execution_count": 167,
   "id": "4805037d",
   "metadata": {},
   "outputs": [],
   "source": [
    "#important librairies\n",
    "import gtfparse\n",
    "from gtfparse import read_gtf\n",
    "import numpy as np\n",
    "import pandas as pd\n",
    "import matplotlib.pyplot as plt"
   ]
  },
  {
   "cell_type": "code",
   "execution_count": 168,
   "id": "3ae242e2",
   "metadata": {},
   "outputs": [],
   "source": [
    "#Important functions\n",
    "\n",
    "def standardize(x):\n",
    "    \"\"\"\n",
    "    Standardize the dataset by substracting the column's values mean to each value of the column and dividing it by \n",
    "    the standart deviation of the values of the columns.\n",
    "    \n",
    "    Args:\n",
    "        x : shape = (N,D) : input matrix.\n",
    "    Returns:\n",
    "        x : standardized version of the input matrix.\n",
    "        mean_x : vector of columns means shape = (D,1)\n",
    "        std_x : vector of the columns standart deviations shape = (D,1)\n",
    "    \"\"\"\n",
    "    mean_x = np.mean(x, axis=0)\n",
    "    x = x - mean_x\n",
    "    std_x = np.std(x, axis=0)\n",
    "    x = x / std_x\n",
    "    return x, mean_x, std_x    \n",
    "\n",
    "def logistic_regression(y, tx, initial_w, max_iters, gamma):\n",
    "    \"\"\"Logistic regression\n",
    "    Arguments:\n",
    "        y: numpy array of shape=(N, ) , it is the vector of outputs\n",
    "        tx: numpy array of shape=(N,k) it is the vector of inputs.\n",
    "        initial_w: numpy array of shape=(k, ). starting points from which we begin the descend\n",
    "        max_iters: number of iteration.\n",
    "        gamma: a scalar denoting the stepsize\n",
    "    Returns:\n",
    "        w : the vector of weight that we obtain at the end of the descend\n",
    "       loss(w) : the cost at point w.\n",
    "    \"\"\"\n",
    "    epsilon = 1e-5    \n",
    "    w = initial_w\n",
    "    sigmoid = lambda x: 1 / (1 + np.exp(-x))\n",
    "    pred = sigmoid(np.dot(tx, w))\n",
    "\n",
    "    for i in range(max_iters):\n",
    "        grad = np.dot(tx.transpose(), pred - y) / y.shape[0]\n",
    "        w -= gamma * grad\n",
    "        pred = sigmoid(np.dot(tx, w))\n",
    "\n",
    "    loss_n = y * np.log(pred + epsilon) + (1 - y) * np.log(1 - pred + epsilon)\n",
    "    loss = -np.sum(loss_n) / y.shape[0]\n",
    "    return w, loss\n",
    "\n",
    "\n",
    "def model_generator(dataset,gama):\n",
    "    \"\"\"\n",
    "    Model that generate the log regression model from datas.\n",
    "    Args :\n",
    "        dataset : dataframe containing the input matrix and the output vector.\n",
    "        gama : size step for log regression.\n",
    "    Returns:\n",
    "        loss_model : the lost at the last step of log regression\n",
    "        w_model : the weights of the log regression model.\n",
    "    \"\"\"\n",
    "    data_for_model = dataset.iloc[0:,2:10]\n",
    "    data_for_model.head()\n",
    "    data_for_model = standardize(data_for_model)[0]\n",
    "    output = dataset.iloc[0:,10]\n",
    "    output = output.to_numpy()\n",
    "    bolean_selector = [output != \"ambiguous\"]\n",
    "    output = output[bolean_selector[0]]\n",
    "    #print(len(bolean_selector[0]))\n",
    "    #print(sum(bolean_selector[0].astype(int)))\n",
    "    bolean_selector_for_dataframe = pd.Series(bolean_selector[0])\n",
    "    data_for_model = data_for_model[bolean_selector_for_dataframe.values]\n",
    "    X = data_for_model.astype(float)\n",
    "    X = X.to_numpy()\n",
    "    y = output.astype(float)\n",
    "    w_model,loss_model =  logistic_regression(y,X,np.ones(8),100,gama)\n",
    "    return loss_model,w_model"
   ]
  },
  {
   "cell_type": "code",
   "execution_count": 169,
   "id": "4d38d1f3",
   "metadata": {},
   "outputs": [],
   "source": [
    "# Dataset\n",
    "lire1 = pd.read_csv(\"data_median.csv\")\n",
    "lire2 = pd.read_csv(\"data_without_one_estimate_for_cell.csv\")"
   ]
  },
  {
   "cell_type": "code",
   "execution_count": 170,
   "id": "9248ea7e",
   "metadata": {},
   "outputs": [
    {
     "data": {
      "text/plain": [
       "Text(0.5, 1.0, 'loss vs gamma for data_median.csv dataset')"
      ]
     },
     "execution_count": 170,
     "metadata": {},
     "output_type": "execute_result"
    },
    {
     "data": {
      "image/png": "[encoded data removed]",
      "text/plain": [
       "<Figure size 432x288 with 1 Axes>"
      ]
     },
     "metadata": {
      "needs_background": "light"
     },
     "output_type": "display_data"
    }
   ],
   "source": [
    "#Test of data_median.csv dataset.\n",
    "gamma = np.arange(0.25,7.25,1)\n",
    "loss = []\n",
    "for value in gamma:\n",
    "    loss.append(model_generator(lire1,value)[0])\n",
    "    \n",
    "plt.plot(gamma,loss,color = 'red')\n",
    "plt.xlabel('gamma')\n",
    "plt.ylabel('loss')\n",
    "plt.title('loss vs gamma for data_median.csv dataset')"
   ]
  },
  {
   "cell_type": "code",
   "execution_count": 171,
   "id": "e8218ead",
   "metadata": {},
   "outputs": [
    {
     "data": {
      "text/plain": [
       "Text(0.5, 1.0, 'loss vs gamma for data_median.csv dataset')"
      ]
     },
     "execution_count": 171,
     "metadata": {},
     "output_type": "execute_result"
    },
    {
     "data": {
      "image/png": "[encoded data removed]",
      "text/plain": [
       "<Figure size 432x288 with 1 Axes>"
      ]
     },
     "metadata": {
      "needs_background": "light"
     },
     "output_type": "display_data"
    }
   ],
   "source": [
    "#Test of data_without_one_estimate dataset.\n",
    "gamma = np.arange(0.5,9.5,1)\n",
    "loss = []\n",
    "for value in gamma:\n",
    "    loss.append(model_generator(lire2,value)[0])\n",
    "    \n",
    "plt.plot(gamma,loss,color = 'red')\n",
    "plt.xlabel('gamma')\n",
    "plt.ylabel('loss')\n",
    "plt.title('loss vs gamma for data_median.csv dataset')"
   ]
  },
  {
   "cell_type": "code",
   "execution_count": 172,
   "id": "e2b7c9b2",
   "metadata": {},
   "outputs": [],
   "source": [
    "w_model = model_generator(lire2,6.5)[1]"
   ]
  },
  {
   "cell_type": "code",
   "execution_count": 173,
   "id": "60c15a00",
   "metadata": {},
   "outputs": [
    {
     "name": "stdout",
     "output_type": "stream",
     "text": [
      "[-0.45005283  0.50981011 -0.06023784 -0.1888034   0.13825146 -0.109952\n",
      "  0.0202567   0.03641629]\n"
     ]
    }
   ],
   "source": [
    "print(w_model)"
   ]
  },
  {
   "cell_type": "code",
   "execution_count": 174,
   "id": "4085d0f7",
   "metadata": {},
   "outputs": [],
   "source": [
    "# Classification of genes according to the relation with centrioles assembly/dissasembly\n",
    "list_of_genes_important_for_centriol_assembly = []\n",
    "list_of_genes_important_for_centriol_dissassembly = []\n",
    "non_classified = []\n",
    "j = 0\n",
    "while(j < 854322):\n",
    "    gene_name = lire2.iloc[j,0]\n",
    "    a = j\n",
    "    while(lire2.iloc[j,0] == gene_name):\n",
    "        j += 1\n",
    "        if (j > 854322):\n",
    "            break\n",
    "    b = j-1\n",
    "    reference =lire2.iloc[a:b,10].to_numpy()\n",
    "    intput = lire2.iloc[a:b,2:10].to_numpy()\n",
    "    output = sigmoid(intput.dot(w_model))\n",
    "    #plt.bar(x= lire.iloc[a:b,1],height = output)\n",
    "    #plt.title(gene_name)\n",
    "    #plt.xlabel('cell types')\n",
    "    #plt.ylabel('probability to have Y = 1')\n",
    "    #plt.show()\n",
    "    output[output >= 0.5] = 1\n",
    "    output[output < 0.5] = 0\n",
    "    centriol_assembly_score = 0\n",
    "    centriol_dessasembly_score = 0\n",
    "    for i in range(0,len(output)):\n",
    "        if((intput[i,7]-intput[i,0] < 0) and (output[i] == 0)):\n",
    "            centriol_assembly_score += 1\n",
    "        elif((intput[i,7]-intput[i,0] > 0) and (output[i] == 0)):\n",
    "            centriol_dessasembly_score += 1\n",
    "        elif((intput[i,7]-intput[i,0] > 0) and (output[i] == 1)):\n",
    "                centriol_assembly_score += 1\n",
    "        elif((intput[i,7]-intput[i,0] < 0) and (output[i] == 1)):\n",
    "                centriol_dessasembly_score += 1\n",
    "    if(centriol_assembly_score > centriol_dessasembly_score):\n",
    "        list_of_genes_important_for_centriol_assembly.append(gene_name)\n",
    "    elif(centriol_assembly_score < centriol_dessasembly_score):\n",
    "        list_of_genes_important_for_centriol_dissassembly.append(gene_name)\n",
    "    else:\n",
    "        non_classified.append(gene_name)\n",
    "          "
   ]
  },
  {
   "cell_type": "code",
   "execution_count": 175,
   "id": "1ee65f26",
   "metadata": {},
   "outputs": [],
   "source": [
    "output1 = pd.DataFrame(data =np.array(list_of_genes_important_for_centriol_assembly), columns = ['genes important for centriol assembly'] )\n",
    "output2 = pd.DataFrame(data =np.array(list_of_genes_important_for_centriol_dissassembly), columns = ['genes important for centriol dessassembly'] )\n",
    "output3 = pd.DataFrame(data =np.array(non_classified), columns = ['genes not relevant for the state of centrioles'] )"
   ]
  },
  {
   "cell_type": "code",
   "execution_count": 176,
   "id": "6bc520d1",
   "metadata": {},
   "outputs": [],
   "source": [
    "result1 = open('genes_relevant_for_centriol_assembly.txt','w')\n",
    "result2 = open('gene_relevant_for_centriol_dissasembly.txt','w')\n",
    "result3 = open('genes_not_relevant_for_centrioles.txt','w')\n",
    "result1.close()\n",
    "result2.close()\n",
    "result3.close()\n",
    "output1.to_csv('final_genes_relevant_for_centriol_assembly.txt', header=None, index=None, sep=' ', mode='a')\n",
    "output2.to_csv('final_gene_relevant_for_centriol_dissasembly.txt', header=None, index=None, sep=' ', mode='a')\n",
    "output3.to_csv('final_genes_not_relevant_for_centrioles.txt', header=None, index=None, sep=' ', mode='a')\n"
   ]
  }
 ],
 "metadata": {
  "kernelspec": {
   "display_name": "Python 3 (ipykernel)",
   "language": "python",
   "name": "python3"
  },
  "language_info": {
   "codemirror_mode": {
    "name": "ipython",
    "version": 3
   },
   "file_extension": ".py",
   "mimetype": "text/x-python",
   "name": "python",
   "nbconvert_exporter": "python",
   "pygments_lexer": "ipython3",
   "version": "3.9.7"
  }
 },
 "nbformat": 4,
 "nbformat_minor": 5
}
